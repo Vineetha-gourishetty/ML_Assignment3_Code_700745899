{
 "cells": [
  {
   "cell_type": "code",
   "execution_count": 23,
   "id": "77b0a6a6",
   "metadata": {},
   "outputs": [
    {
     "name": "stdout",
     "output_type": "stream",
     "text": [
      "Vector: [19 11  2 12 20  5 20  9 12 18  6 11  2  8  5]\n",
      "Reshaped array:\n",
      " [[19 11  2 12 20]\n",
      " [ 5 20  9 12 18]\n",
      " [ 6 11  2  8  5]]\n",
      "Array shape: (3, 5)\n",
      "Array after replacing max in each row with 0:\n",
      " [[19 11  2 12  0]\n",
      " [ 5  0  9 12 18]\n",
      " [ 6  0  2  8  5]]\n",
      "2-dimensional array:\n",
      " [[0 0 0]\n",
      " [0 0 0]\n",
      " [0 0 0]\n",
      " [0 0 0]]\n",
      "Array shape: (4, 3)\n",
      "Array type: <class 'numpy.ndarray'>\n",
      "Array data type: int32\n"
     ]
    }
   ],
   "source": [
    "#QUESTION 1 NUMPY\n",
    "\n",
    "\n",
    "import numpy as np\n",
    "\n",
    "# Create random vector of size 15 with integers in the range 1-20\n",
    "random_vec = np.random.randint(1, 21, size=15)\n",
    "print(\"Vector:\", random_vec)\n",
    "\n",
    "# Reshape the array to 3 by 5\n",
    "reshaped_array = random_vec.reshape((3, 5))\n",
    "print(\"Reshaped array:\\n\", reshaped_array)\n",
    "\n",
    "# Print array shape\n",
    "print(\"Array shape:\", reshaped_array.shape)\n",
    "\n",
    "# Replace the max in each row by 0\n",
    "reshaped_array[np.arange(len(reshaped_array)), np.argmax(reshaped_array, axis=1)] = 0\n",
    "print(\"Array after replacing max in each row with 0:\\n\", reshaped_array)\n",
    "\n",
    "# Create 2-dimensional array of size 4 x 3\n",
    "arr_2d = np.zeros((4, 3), dtype=np.int32)\n",
    "print(\"2-dimensional array:\\n\", arr_2d)\n",
    "print(\"Array shape:\", arr_2d.shape)\n",
    "print(\"Array type:\", type(arr_2d))\n",
    "print(\"Array data type:\", arr_2d.dtype)\n"
   ]
  },
  {
   "cell_type": "code",
   "execution_count": 24,
   "id": "9f8fdb27",
   "metadata": {},
   "outputs": [
    {
     "name": "stdout",
     "output_type": "stream",
     "text": [
      "Eigenvalues: [2. 1.]\n",
      "Right eigenvectors:\n",
      " [[0.89442719 0.70710678]\n",
      " [0.4472136  0.70710678]]\n"
     ]
    }
   ],
   "source": [
    "# Given square array for question b\n",
    "arr = np.array([[3, -2], [1, 0]])\n",
    "\n",
    "# Computing eigenvalues and right eigenvectors\n",
    "eigenvalues, eigenvectors = np.linalg.eig(arr)\n",
    "\n",
    "# Print the eigenvalues and right eigenvectors\n",
    "print(\"Eigenvalues:\", eigenvalues)\n",
    "print(\"Right eigenvectors:\\n\", eigenvectors)"
   ]
  },
  {
   "cell_type": "code",
   "execution_count": 25,
   "id": "329e3820",
   "metadata": {},
   "outputs": [
    {
     "name": "stdout",
     "output_type": "stream",
     "text": [
      "Sum of diagonal elements: 4\n"
     ]
    }
   ],
   "source": [
    "# Given array in question c\n",
    "arr1 = np.array([[0, 1, 2], [3, 4, 5]])\n",
    "\n",
    "# Compute the sum of diagonal elements\n",
    "sum_diagonal_ele = np.trace(arr1)\n",
    "\n",
    "# Print the sum of diagonal elements\n",
    "print(\"Sum of diagonal elements:\", sum_diagonal_ele)"
   ]
  },
  {
   "cell_type": "code",
   "execution_count": 26,
   "id": "df132523",
   "metadata": {},
   "outputs": [
    {
     "name": "stdout",
     "output_type": "stream",
     "text": [
      "Original array:\n",
      " [[1 2]\n",
      " [3 4]\n",
      " [5 6]]\n",
      "Reshaped array (2x3):\n",
      " [[1 2 3]\n",
      " [4 5 6]]\n"
     ]
    }
   ],
   "source": [
    "# Given array in question d\n",
    "original_array = np.array([[1, 2], [3, 4], [5, 6]])\n",
    "\n",
    "# Reshape the array to 2x3 without changing data\n",
    "array_reshape_2x3 = original_array.reshape((2, 3))\n",
    "\n",
    "# Print the original array and the reshaped array\n",
    "print(\"Original array:\\n\", original_array)\n",
    "print(\"Reshaped array (2x3):\\n\", array_reshape_2x3)"
   ]
  },
  {
   "cell_type": "code",
   "execution_count": 27,
   "id": "7e201a01",
   "metadata": {},
   "outputs": [
    {
     "data": {
      "image/png": "[encoded data removed]",
      "text/plain": [
       "<Figure size 432x288 with 1 Axes>"
      ]
     },
     "metadata": {},
     "output_type": "display_data"
    }
   ],
   "source": [
    "#QUESTION 2 MATPLOTLIB\n",
    "\n",
    "import matplotlib.pyplot as plt\n",
    "\n",
    "# Define the data\n",
    "Programming_languages = ['Java', 'Python', 'PHP', 'JavaScript', 'C#', 'C++']\n",
    "popularity = [22.2, 17.6, 8.8, 8, 7.7, 6.7]\n",
    "\n",
    "explode = [0.1, 0, 0, 0, 0, 0]\n",
    "\n",
    "# Create the pie chart\n",
    "plt.pie(popularity, labels=Programming_languages, explode=explode, shadow=True,\n",
    "        wedgeprops={'edgecolor': 'black'},autopct='%1.1f%%')\n",
    "\n",
    "# Add a title\n",
    "plt.title(\"Popularity of Programming Languages\")\n",
    "\n",
    "# Display the pie chart\n",
    "plt.show()\n"
   ]
  },
  {
   "cell_type": "code",
   "execution_count": null,
   "id": "298456df",
   "metadata": {},
   "outputs": [],
   "source": []
  }
 ],
 "metadata": {
  "kernelspec": {
   "display_name": "Python 3 (ipykernel)",
   "language": "python",
   "name": "python3"
  },
  "language_info": {
   "codemirror_mode": {
    "name": "ipython",
    "version": 3
   },
   "file_extension": ".py",
   "mimetype": "text/x-python",
   "name": "python",
   "nbconvert_exporter": "python",
   "pygments_lexer": "ipython3",
   "version": "3.9.12"
  }
 },
 "nbformat": 4,
 "nbformat_minor": 5
}
